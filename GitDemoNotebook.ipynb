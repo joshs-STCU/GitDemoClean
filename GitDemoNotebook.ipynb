{
    "metadata": {
        "kernelspec": {
            "name": "SQL",
            "display_name": "SQL",
            "language": "sql"
        },
        "language_info": {
            "name": "sql",
            "version": ""
        }
    },
    "nbformat_minor": 2,
    "nbformat": 4,
    "cells": [
        {
            "cell_type": "markdown",
            "source": [
                "## *Our Documentaiton Lives Here Now*\r\n",
                "\r\n",
                "Using markdown we can format our instructions easily and then add working code directly beneath.\r\n",
                "\r\n",
                "1. list item\r\n",
                "    1. sublists are cool now\r\n",
                "    2. and fezzes\r\n",
                "2. continuing on...\r\n",
                "\r\n",
                "* hey bullet point"
            ],
            "metadata": {
                "azdata_cell_guid": "a7bb712b-d78c-4f78-8142-8bf3e841d879"
            }
        },
        {
            "cell_type": "code",
            "source": [
                "SELECT TOP (10) DatabaseName\n",
                "    , StartTime\n",
                "    , EndTime\n",
                "    , DATEDIFF(MINUTE, StartTime, EndTime) AS RunMins\n",
                "    , Command\n",
                "    , ErrorNumber\n",
                "    , ErrorMessage\n",
                "FROM SQLMgmtD.dbo.commandLog\n",
                "WHERE CommandType = 'BACKUP'\n",
                "ORDER BY StartTime DESC"
            ],
            "metadata": {
                "azdata_cell_guid": "d643c945-4be4-4c92-a189-c2c7ccfd9a3b"
            },
            "outputs": [],
            "execution_count": 12
        }
    ]
}